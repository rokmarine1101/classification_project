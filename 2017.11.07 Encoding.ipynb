{
 "cells": [
  {
   "cell_type": "code",
   "execution_count": 1,
   "metadata": {},
   "outputs": [
    {
     "name": "stderr",
     "output_type": "stream",
     "text": [
      "/Users/jakekong/.pyenv/versions/3.6.1/lib/python3.6/site-packages/statsmodels/compat/pandas.py:56: FutureWarning: The pandas.core.datetools module is deprecated and will be removed in a future version. Please use the pandas.tseries module instead.\n",
      "  from pandas.core import datetools\n"
     ]
    }
   ],
   "source": [
    "from sklearn.linear_model import LogisticRegression\n",
    "from sklearn.svm import SVC\n",
    "import pandas as pd\n",
    "import scipy as sp\n",
    "import matplotlib.pyplot as plt\n",
    "from matplotlib import style\n",
    "import seaborn as sns\n",
    "import numpy as np\n",
    "import statsmodels.api as sm\n",
    "from sklearn.datasets import make_regression\n",
    "from patsy import dmatrix\n",
    "from sklearn.linear_model import LinearRegression\n",
    "import statsmodels.stats.api as sms\n",
    "import numpy as np"
   ]
  },
  {
   "cell_type": "markdown",
   "metadata": {},
   "source": [
    "## 전처리"
   ]
  },
  {
   "cell_type": "markdown",
   "metadata": {},
   "source": [
    "### outcometype encoding by      \"LabelEncoder\""
   ]
  },
  {
   "cell_type": "code",
   "execution_count": 2,
   "metadata": {},
   "outputs": [
    {
     "data": {
      "text/html": [
       "<div>\n",
       "<style>\n",
       "    .dataframe thead tr:only-child th {\n",
       "        text-align: right;\n",
       "    }\n",
       "\n",
       "    .dataframe thead th {\n",
       "        text-align: left;\n",
       "    }\n",
       "\n",
       "    .dataframe tbody tr th {\n",
       "        vertical-align: top;\n",
       "    }\n",
       "</style>\n",
       "<table border=\"1\" class=\"dataframe\">\n",
       "  <thead>\n",
       "    <tr style=\"text-align: right;\">\n",
       "      <th></th>\n",
       "      <th>AnimalID</th>\n",
       "      <th>Name</th>\n",
       "      <th>DateTime</th>\n",
       "      <th>OutcomeType</th>\n",
       "      <th>OutcomeSubtype</th>\n",
       "      <th>AnimalType</th>\n",
       "      <th>SexuponOutcome</th>\n",
       "      <th>AgeuponOutcome</th>\n",
       "      <th>Breed</th>\n",
       "      <th>Color</th>\n",
       "    </tr>\n",
       "  </thead>\n",
       "  <tbody>\n",
       "    <tr>\n",
       "      <th>26724</th>\n",
       "      <td>A702446</td>\n",
       "      <td>NaN</td>\n",
       "      <td>2015-05-14 11:56:00</td>\n",
       "      <td>Transfer</td>\n",
       "      <td>Partner</td>\n",
       "      <td>Cat</td>\n",
       "      <td>Intact Male</td>\n",
       "      <td>1 month</td>\n",
       "      <td>Domestic Shorthair Mix</td>\n",
       "      <td>Brown Tabby/White</td>\n",
       "    </tr>\n",
       "    <tr>\n",
       "      <th>26725</th>\n",
       "      <td>A718934</td>\n",
       "      <td>NaN</td>\n",
       "      <td>2016-01-20 18:59:00</td>\n",
       "      <td>Transfer</td>\n",
       "      <td>SCRP</td>\n",
       "      <td>Cat</td>\n",
       "      <td>Spayed Female</td>\n",
       "      <td>3 months</td>\n",
       "      <td>Domestic Shorthair Mix</td>\n",
       "      <td>Brown Tabby</td>\n",
       "    </tr>\n",
       "    <tr>\n",
       "      <th>26726</th>\n",
       "      <td>A698128</td>\n",
       "      <td>Zeus</td>\n",
       "      <td>2015-03-09 13:33:00</td>\n",
       "      <td>Adoption</td>\n",
       "      <td>NaN</td>\n",
       "      <td>Dog</td>\n",
       "      <td>Neutered Male</td>\n",
       "      <td>4 years</td>\n",
       "      <td>Old English Bulldog Mix</td>\n",
       "      <td>White/Tan</td>\n",
       "    </tr>\n",
       "    <tr>\n",
       "      <th>26727</th>\n",
       "      <td>A677478</td>\n",
       "      <td>NaN</td>\n",
       "      <td>2014-04-27 12:22:00</td>\n",
       "      <td>Transfer</td>\n",
       "      <td>Partner</td>\n",
       "      <td>Cat</td>\n",
       "      <td>Intact Male</td>\n",
       "      <td>4 weeks</td>\n",
       "      <td>Domestic Shorthair Mix</td>\n",
       "      <td>Black</td>\n",
       "    </tr>\n",
       "    <tr>\n",
       "      <th>26728</th>\n",
       "      <td>A706629</td>\n",
       "      <td>NaN</td>\n",
       "      <td>2015-07-02 09:00:00</td>\n",
       "      <td>Transfer</td>\n",
       "      <td>SCRP</td>\n",
       "      <td>Cat</td>\n",
       "      <td>Intact Male</td>\n",
       "      <td>1 year</td>\n",
       "      <td>Domestic Shorthair Mix</td>\n",
       "      <td>Brown Tabby/White</td>\n",
       "    </tr>\n",
       "  </tbody>\n",
       "</table>\n",
       "</div>"
      ],
      "text/plain": [
       "      AnimalID  Name             DateTime OutcomeType OutcomeSubtype  \\\n",
       "26724  A702446   NaN  2015-05-14 11:56:00    Transfer        Partner   \n",
       "26725  A718934   NaN  2016-01-20 18:59:00    Transfer           SCRP   \n",
       "26726  A698128  Zeus  2015-03-09 13:33:00    Adoption            NaN   \n",
       "26727  A677478   NaN  2014-04-27 12:22:00    Transfer        Partner   \n",
       "26728  A706629   NaN  2015-07-02 09:00:00    Transfer           SCRP   \n",
       "\n",
       "      AnimalType SexuponOutcome AgeuponOutcome                    Breed  \\\n",
       "26724        Cat    Intact Male        1 month   Domestic Shorthair Mix   \n",
       "26725        Cat  Spayed Female       3 months   Domestic Shorthair Mix   \n",
       "26726        Dog  Neutered Male        4 years  Old English Bulldog Mix   \n",
       "26727        Cat    Intact Male        4 weeks   Domestic Shorthair Mix   \n",
       "26728        Cat    Intact Male         1 year   Domestic Shorthair Mix   \n",
       "\n",
       "                   Color  \n",
       "26724  Brown Tabby/White  \n",
       "26725        Brown Tabby  \n",
       "26726          White/Tan  \n",
       "26727              Black  \n",
       "26728  Brown Tabby/White  "
      ]
     },
     "execution_count": 2,
     "metadata": {},
     "output_type": "execute_result"
    }
   ],
   "source": [
    "df = pd.read_csv(\"train.csv\")\n",
    "\n",
    "df.tail()"
   ]
  },
  {
   "cell_type": "code",
   "execution_count": 3,
   "metadata": {
    "collapsed": true
   },
   "outputs": [],
   "source": [
    "outcometype0 = df[\"OutcomeType\"]\n",
    "\n",
    "from sklearn.preprocessing import LabelEncoder\n",
    "\n",
    "le = LabelEncoder()\n",
    "le.fit(outcometype0)\n",
    "\n",
    "OutcomeType = le.transform(outcometype0)"
   ]
  },
  {
   "cell_type": "code",
   "execution_count": null,
   "metadata": {
    "collapsed": true
   },
   "outputs": [],
   "source": []
  },
  {
   "cell_type": "markdown",
   "metadata": {},
   "source": [
    "### animaltype encoding by \"LabelBinarizer\""
   ]
  },
  {
   "cell_type": "code",
   "execution_count": 4,
   "metadata": {
    "collapsed": true
   },
   "outputs": [],
   "source": [
    "animaltype0 = df[\"AnimalType\"]\n",
    "\n",
    "from sklearn.preprocessing import LabelBinarizer\n",
    "\n",
    "lb = LabelBinarizer()\n",
    "lb.fit(animaltype0)\n",
    "\n",
    "AnimalType = lb.transform(animaltype0)"
   ]
  },
  {
   "cell_type": "code",
   "execution_count": 5,
   "metadata": {},
   "outputs": [
    {
     "name": "stdout",
     "output_type": "stream",
     "text": [
      "['Cat' 'Dog']\n"
     ]
    }
   ],
   "source": [
    "print(lb.classes_)\n",
    "#good"
   ]
  },
  {
   "cell_type": "markdown",
   "metadata": {},
   "source": [
    "### sexuponoutcome encoding by \"LabelEncoder\" & NaN value preprocessing\n",
    "- 이미 'Unknown' 이라는 값이 존재 함으로 LablEncoder를 통해 nan값을 'Unknown'으로 통일시켜줌 (하나의 class type이 단축됨)"
   ]
  },
  {
   "cell_type": "code",
   "execution_count": 6,
   "metadata": {
    "collapsed": true
   },
   "outputs": [],
   "source": [
    "sextype0 = df[\"SexuponOutcome\"]\n",
    "nan_processed_sextype = sextype0.replace(np.nan, 'Unknown')\n",
    "\n",
    "from sklearn.preprocessing import LabelEncoder\n",
    "\n",
    "le = LabelEncoder()\n",
    "le.fit(nan_processed_sextype)\n",
    "\n",
    "SexuponOutcome = le.transform(nan_processed_sextype)"
   ]
  },
  {
   "cell_type": "code",
   "execution_count": 7,
   "metadata": {},
   "outputs": [
    {
     "name": "stdout",
     "output_type": "stream",
     "text": [
      "['Intact Female' 'Intact Male' 'Neutered Male' 'Spayed Female' 'Unknown']\n"
     ]
    }
   ],
   "source": [
    "print(le.classes_)\n"
   ]
  },
  {
   "cell_type": "markdown",
   "metadata": {},
   "source": [
    "### ageuponoutcome  encoding from STR to INT, then another encoding by \"LabelEncoder\""
   ]
  },
  {
   "cell_type": "code",
   "execution_count": 8,
   "metadata": {
    "collapsed": true
   },
   "outputs": [],
   "source": [
    "age = df['AgeuponOutcome']\n",
    "\n",
    "nan_processed_age = age.replace(np.nan, 'unknown')\n",
    "list_age = []\n",
    "for i in nan_processed_age:\n",
    "    if i == 'unknown':\n",
    "        i = 0\n",
    "    else:\n",
    "        i = i.split(\" \")\n",
    "    list_age.append(i)\n",
    "\n",
    "\n",
    "for i in list_age:\n",
    "    if i == 0:\n",
    "        continue\n",
    "    elif i[1] == 'year' or i[1] == 'years':\n",
    "        i[1] = 365\n",
    "    elif i[1] == 'month' or i[1] == 'months':\n",
    "        i[1] = 30\n",
    "    elif i[1] == 'week' or i[1] == 'weeks':\n",
    "        i[1] = 7\n",
    "    else:\n",
    "        i[1] = 1\n",
    "\n",
    "\n",
    "for i in list_age:\n",
    "    if i == 0:\n",
    "        continue\n",
    "    else:\n",
    "        i[0] = int(i[0])\n",
    "\n",
    "\n",
    "AgeuponOutcome = []\n",
    "for i in list_age:\n",
    "    if i == 0:\n",
    "        AgeuponOutcome.append(i)\n",
    "    else:\n",
    "        i = i[0]*i[1]\n",
    "        AgeuponOutcome.append(i)\n",
    "\n",
    "#AgeuponOutcome"
   ]
  },
  {
   "cell_type": "code",
   "execution_count": 9,
   "metadata": {},
   "outputs": [
    {
     "data": {
      "image/png": "[encoded data removed]",
      "text/plain": [
       "<matplotlib.figure.Figure at 0x110cdafd0>"
      ]
     },
     "metadata": {},
     "output_type": "display_data"
    }
   ],
   "source": [
    "plt.hist(AgeuponOutcome, bins=20)\n",
    "plt.show()"
   ]
  },
  {
   "cell_type": "markdown",
   "metadata": {},
   "source": [
    "### breed represented by taking dominant breed (if mixed), then encoding by \"LabelEncoder\""
   ]
  },
  {
   "cell_type": "code",
   "execution_count": 10,
   "metadata": {
    "collapsed": true
   },
   "outputs": [],
   "source": [
    "breed0 = df[\"Breed\"]\n",
    "\n",
    "breed = []\n",
    "for i in breed0:\n",
    "    \n",
    "    i = i.split(\"/\")\n",
    "    \n",
    "    breed.append(i)\n",
    "\n",
    "#--------------------------------------------------------#\n",
    "dominant = []\n",
    "for i in breed:\n",
    "    if len(i) == 2:\n",
    "        i.remove(i[1])\n",
    "    elif len(i) ==3:\n",
    "        i.remove(i[2])\n",
    "    dominant.append(i)  \n",
    "\n",
    "#--------------------------------------------------------#\n",
    "\n",
    "breedtype0 = []\n",
    "for i in dominant:\n",
    "    if len(i) == 2:\n",
    "        if i[1] == \"Black\":\n",
    "            i.remove(i[1])\n",
    "        else:\n",
    "            i = [\"Black Tan Hound\"]\n",
    "    breedtype0.append(i)\n",
    "    \n",
    "            \n",
    "pd_breed = pd.DataFrame(breedtype0)\n",
    "new_breed0 = pd_breed[0]\n",
    "\n",
    "#--------------------------------------------------------#\n",
    "\n",
    "for_off_mix = []\n",
    "\n",
    "for i in new_breed0:\n",
    "    \n",
    "    i = i.split(\" \")\n",
    "    \n",
    "    for_off_mix.append(i)\n",
    "\n",
    "#--------------------------------------------------------#\n",
    "\n",
    "off_mix = []\n",
    "for i in for_off_mix:\n",
    "    if \"Mix\" in i:\n",
    "        i.remove(\"Mix\")\n",
    "    off_mix.append(i)\n",
    "    \n",
    "#--------------------------------------------------------#\n",
    "\n",
    "Breed1 = []\n",
    "for i in off_mix:\n",
    "    if len(i) == 1:\n",
    "        i = i[0]\n",
    "    elif len(i) == 2:\n",
    "        i = i[0] + \" \" + i[1]\n",
    "    elif len(i) == 3:\n",
    "        i = i[0] + \" \" + i[1] + \" \" + i[2]\n",
    "    elif len(i) == 4:\n",
    "        i = i[0] + \" \" + i[1] + \" \" + i[2] + \" \" + i[3]\n",
    "    elif len(i) == 5:\n",
    "        i = i[0] + \" \" + i[1] + \" \" + i[2] + \" \" + i[3] + \" \"+ i[4]\n",
    "    \n",
    "    \n",
    "    Breed1.append(i)\n",
    "\n",
    "\n",
    "#--------------------------------------------------------#"
   ]
  },
  {
   "cell_type": "code",
   "execution_count": 11,
   "metadata": {},
   "outputs": [
    {
     "name": "stdout",
     "output_type": "stream",
     "text": [
      "221\n",
      "['Abyssinian' 'Affenpinscher' 'Afghan Hound' 'Airedale Terrier' 'Akita'\n",
      " 'Alaskan Husky' 'Alaskan Malamute' 'American Bulldog' 'American Eskimo'\n",
      " 'American Foxhound' 'American Pit Bull Terrier' 'American Shorthair'\n",
      " 'American Staffordshire Terrier' 'Anatol Shepherd' 'Angora'\n",
      " 'Australian Cattle Dog' 'Australian Kelpie' 'Australian Shepherd'\n",
      " 'Australian Terrier' 'Balinese' 'Basenji' 'Basset Hound' 'Beagle'\n",
      " 'Bearded Collie' 'Beauceron' 'Bedlington Terr' 'Belgian Malinois'\n",
      " 'Belgian Sheepdog' 'Belgian Tervuren' 'Bengal' 'Bernese Mountain Dog'\n",
      " 'Bichon Frise' 'Black' 'Black Mouth Cur' 'Black Tan Hound' 'Bloodhound'\n",
      " 'Blue Lacy' 'Bluetick Hound' 'Boerboel' 'Bombay' 'Border Collie'\n",
      " 'Border Terrier' 'Boston Terrier' 'Boxer' 'Boykin Span'\n",
      " 'British Shorthair' 'Brittany' 'Bruss Griffon' 'Bull Terrier'\n",
      " 'Bull Terrier Miniature' 'Bulldog' 'Bullmastiff' 'Burmese' 'Cairn Terrier'\n",
      " 'Canaan Dog' 'Cane Corso' 'Cardigan Welsh Corgi' 'Carolina Dog'\n",
      " 'Catahoula' 'Cavalier Span' 'Chesa Bay Retr' 'Chihuahua Longhair'\n",
      " 'Chihuahua Shorthair' 'Chinese Crested' 'Chinese Sharpei' 'Chow Chow'\n",
      " 'Cocker Spaniel' 'Collie Rough' 'Collie Smooth' 'Cornish Rex' 'Cymric'\n",
      " 'Dachshund' 'Dachshund Longhair' 'Dachshund Wirehair' 'Dalmatian'\n",
      " 'Devon Rex' 'Doberman Pinsch' 'Dogo Argentino' 'Dogue De Bordeaux'\n",
      " 'Domestic Longhair' 'Domestic Medium Hair' 'Domestic Shorthair'\n",
      " 'Dutch Shepherd' 'English Bulldog' 'English Cocker Spaniel'\n",
      " 'English Coonhound' 'English Foxhound' 'English Pointer' 'English Setter'\n",
      " 'English Shepherd' 'English Springer Spaniel' 'Entlebucher'\n",
      " 'Exotic Shorthair' 'Feist' 'Field Spaniel' 'Finnish Spitz'\n",
      " 'Flat Coat Retriever' 'French Bulldog' 'German Pinscher' 'German Shepherd'\n",
      " 'German Shorthair Pointer' 'German Wirehaired Pointer' 'Glen Of Imaal'\n",
      " 'Golden Retriever' 'Great Dane' 'Great Pyrenees'\n",
      " 'Greater Swiss Mountain Dog' 'Greyhound' 'Harrier' 'Havana Brown'\n",
      " 'Havanese' 'Himalayan' 'Hovawart' 'Ibizan Hound' 'Irish Setter'\n",
      " 'Irish Terrier' 'Irish Wolfhound' 'Italian Greyhound'\n",
      " 'Jack Russell Terrier' 'Japanese Bobtail' 'Japanese Chin' 'Javanese'\n",
      " 'Jindo' 'Keeshond' 'Kuvasz' 'Labrador Retriever' 'Landseer' 'Leonberger'\n",
      " 'Lhasa Apso' 'Lowchen' 'Maine Coon' 'Maltese' 'Manchester Terrier' 'Manx'\n",
      " 'Mastiff' 'Mexican Hairless' 'Miniature Pinscher' 'Miniature Poodle'\n",
      " 'Miniature Schnauzer' 'Munchkin Longhair' 'Neapolitan Mastiff'\n",
      " 'Newfoundland' 'Norfolk Terrier' 'Norwegian Elkhound'\n",
      " 'Norwegian Forest Cat' 'Norwich Terrier'\n",
      " 'Nova Scotia Duck Tolling Retriever' 'Ocicat' 'Old English Bulldog'\n",
      " 'Old English Sheepdog' 'Otterhound' 'Papillon' 'Parson Russell Terrier'\n",
      " 'Patterdale Terr' 'Pbgv' 'Pekingese' 'Pembroke Welsh Corgi' 'Persian'\n",
      " 'Pharaoh Hound' 'Picardy Sheepdog' 'Pit Bull' 'Pixiebob Shorthair'\n",
      " 'Plott Hound' 'Podengo Pequeno' 'Pointer' 'Pomeranian' 'Port Water Dog'\n",
      " 'Presa Canario' 'Pug' 'Queensland Heeler' 'Ragdoll' 'Rat Terrier'\n",
      " 'Redbone Hound' 'Rhod Ridgeback' 'Rottweiler' 'Russian Blue' 'Saluki'\n",
      " 'Samoyed' 'Schipperke' 'Schnauzer Giant' 'Scottish Terrier'\n",
      " 'Sealyham Terr' 'Shetland Sheepdog' 'Shiba Inu' 'Shih Tzu' 'Siamese'\n",
      " 'Siberian Husky' 'Silky Terrier' 'Skye Terrier' 'Smooth Fox Terrier'\n",
      " 'Snowshoe' 'Soft Coated Wheaten Terrier' 'Spanish Mastiff' 'Sphynx'\n",
      " 'Spinone Italiano' 'St. Bernard Rough Coat' 'St. Bernard Smooth Coat'\n",
      " 'Staffordshire' 'Standard Poodle' 'Standard Schnauzer' 'Swedish Vallhund'\n",
      " 'Swiss Hound' 'Tibetan Spaniel' 'Tibetan Terrier' 'Tonkinese'\n",
      " 'Toy Fox Terrier' 'Toy Poodle' 'Treeing Cur' 'Treeing Tennesse Brindle'\n",
      " 'Treeing Walker Coonhound' 'Turkish Van' 'Unknown' 'Vizsla' 'Weimaraner'\n",
      " 'Welsh Springer Spaniel' 'Welsh Terrier' 'West Highland' 'Whippet'\n",
      " 'Wire Hair Fox Terrier' 'Wirehaired Pointing Griffon' 'Yorkshire Terrier']\n"
     ]
    }
   ],
   "source": [
    "from sklearn.preprocessing import LabelEncoder\n",
    "\n",
    "le = LabelEncoder()\n",
    "le.fit(Breed1)\n",
    "\n",
    "Breed = le.transform(Breed1)\n",
    "Breed_classes = le.classes_\n",
    "print(len(le.classes_))\n",
    "print(le.classes_)"
   ]
  },
  {
   "cell_type": "code",
   "execution_count": null,
   "metadata": {
    "collapsed": true
   },
   "outputs": [],
   "source": []
  },
  {
   "cell_type": "code",
   "execution_count": 12,
   "metadata": {},
   "outputs": [
    {
     "data": {
      "image/png": "[encoded data removed]",
      "text/plain": [
       "<matplotlib.figure.Figure at 0x11761aa20>"
      ]
     },
     "metadata": {},
     "output_type": "display_data"
    }
   ],
   "source": [
    "plt.hist(Breed)\n",
    "plt.show()"
   ]
  },
  {
   "cell_type": "code",
   "execution_count": 13,
   "metadata": {},
   "outputs": [
    {
     "name": "stdout",
     "output_type": "stream",
     "text": [
      "['Cocker Spaniel' 'Collie Rough' 'Collie Smooth' 'Cornish Rex' 'Cymric'\n",
      " 'Dachshund' 'Dachshund Longhair' 'Dachshund Wirehair' 'Dalmatian'\n",
      " 'Devon Rex' 'Doberman Pinsch' 'Dogo Argentino' 'Dogue De Bordeaux'\n",
      " 'Domestic Longhair' 'Domestic Medium Hair' 'Domestic Shorthair'\n",
      " 'Dutch Shepherd' 'English Bulldog' 'English Cocker Spaniel'\n",
      " 'English Coonhound' 'English Foxhound' 'English Pointer' 'English Setter']\n"
     ]
    }
   ],
   "source": [
    "print (Breed_classes[66:89])"
   ]
  },
  {
   "cell_type": "code",
   "execution_count": 14,
   "metadata": {},
   "outputs": [
    {
     "data": {
      "text/plain": [
       "breed\n",
       "Domestic Shorthair             8958\n",
       "Chihuahua Shorthair            2145\n",
       "Pit Bull                       2113\n",
       "Labrador Retriever             1915\n",
       "Domestic Medium Hair            883\n",
       "German Shepherd                 826\n",
       "Domestic Longhair               547\n",
       "Australian Cattle Dog           511\n",
       "Dachshund                       510\n",
       "Siamese                         426\n",
       "Boxer                           360\n",
       "Border Collie                   334\n",
       "Miniature Poodle                310\n",
       "Australian Shepherd             229\n",
       "Yorkshire Terrier               226\n",
       "Jack Russell Terrier            222\n",
       "Beagle                          220\n",
       "Miniature Schnauzer             220\n",
       "Catahoula                       218\n",
       "Rat Terrier                     215\n",
       "Siberian Husky                  194\n",
       "Rottweiler                      181\n",
       "Shih Tzu                        176\n",
       "Chihuahua Longhair              168\n",
       "Cairn Terrier                   142\n",
       "Pointer                         139\n",
       "Great Pyrenees                  131\n",
       "American Bulldog                130\n",
       "Anatol Shepherd                 118\n",
       "Australian Kelpie               116\n",
       "                               ... \n",
       "Bearded Collie                    2\n",
       "Wirehaired Pointing Griffon       2\n",
       "Sphynx                            2\n",
       "Abyssinian                        2\n",
       "Belgian Tervuren                  2\n",
       "Cymric                            2\n",
       "Port Water Dog                    2\n",
       "Old English Sheepdog              2\n",
       "Neapolitan Mastiff                2\n",
       "Devon Rex                         2\n",
       "Swiss Hound                       1\n",
       "Norwegian Forest Cat              1\n",
       "Havana Brown                      1\n",
       "Afghan Hound                      1\n",
       "Otterhound                        1\n",
       "Kuvasz                            1\n",
       "Ocicat                            1\n",
       "Sealyham Terr                     1\n",
       "Hovawart                          1\n",
       "Treeing Tennesse Brindle          1\n",
       "Lowchen                           1\n",
       "Norwegian Elkhound                1\n",
       "Spinone Italiano                  1\n",
       "Munchkin Longhair                 1\n",
       "Entlebucher                       1\n",
       "Mexican Hairless                  1\n",
       "Cornish Rex                       1\n",
       "Spanish Mastiff                   1\n",
       "English Cocker Spaniel            1\n",
       "Burmese                           1\n",
       "Length: 221, dtype: int64"
      ]
     },
     "execution_count": 14,
     "metadata": {},
     "output_type": "execute_result"
    }
   ],
   "source": [
    "Breed11 = pd.DataFrame(Breed1, columns = ['breed'])\n",
    "\n",
    "\n",
    "Brid = Breed11.groupby(\"breed\")\n",
    "\n",
    "group = Brid.groups\n",
    "\n",
    "\n",
    "Brid.size().sort_values(ascending = False)\n",
    "  \n"
   ]
  },
  {
   "cell_type": "code",
   "execution_count": null,
   "metadata": {
    "collapsed": true
   },
   "outputs": [],
   "source": []
  },
  {
   "cell_type": "code",
   "execution_count": null,
   "metadata": {
    "collapsed": true
   },
   "outputs": [],
   "source": []
  },
  {
   "cell_type": "markdown",
   "metadata": {},
   "source": [
    "### color encoding"
   ]
  },
  {
   "cell_type": "code",
   "execution_count": 15,
   "metadata": {
    "collapsed": true
   },
   "outputs": [],
   "source": [
    "color = df[\"Color\"]"
   ]
  },
  {
   "cell_type": "code",
   "execution_count": 16,
   "metadata": {},
   "outputs": [
    {
     "data": {
      "text/plain": [
       "366"
      ]
     },
     "execution_count": 16,
     "metadata": {},
     "output_type": "execute_result"
    }
   ],
   "source": [
    "len(color.unique())"
   ]
  },
  {
   "cell_type": "code",
   "execution_count": 17,
   "metadata": {
    "collapsed": true
   },
   "outputs": [],
   "source": [
    "div_color = []\n",
    "for i in color:\n",
    "    i = i.split(\"/\")[0]\n",
    "    div_color.append(i)"
   ]
  },
  {
   "cell_type": "code",
   "execution_count": null,
   "metadata": {
    "collapsed": true
   },
   "outputs": [],
   "source": []
  },
  {
   "cell_type": "code",
   "execution_count": 18,
   "metadata": {},
   "outputs": [
    {
     "name": "stdout",
     "output_type": "stream",
     "text": [
      "57\n",
      "['Agouti' 'Apricot' 'Black' 'Black Brindle' 'Black Smoke' 'Black Tabby'\n",
      " 'Black Tiger' 'Blue' 'Blue Cream' 'Blue Merle' 'Blue Point' 'Blue Smoke'\n",
      " 'Blue Tabby' 'Blue Tick' 'Blue Tiger' 'Brown' 'Brown Brindle'\n",
      " 'Brown Merle' 'Brown Tabby' 'Brown Tiger' 'Buff' 'Calico' 'Calico Point'\n",
      " 'Chocolate' 'Chocolate Point' 'Cream' 'Cream Tabby' 'Fawn' 'Flame Point'\n",
      " 'Gold' 'Gray' 'Gray Tabby' 'Lilac Point' 'Liver' 'Liver Tick' 'Lynx Point'\n",
      " 'Orange' 'Orange Tabby' 'Orange Tiger' 'Pink' 'Red' 'Red Merle' 'Red Tick'\n",
      " 'Ruddy' 'Sable' 'Seal Point' 'Silver' 'Silver Lynx Point' 'Silver Tabby'\n",
      " 'Tan' 'Torbie' 'Tortie' 'Tortie Point' 'Tricolor' 'White' 'Yellow'\n",
      " 'Yellow Brindle']\n"
     ]
    }
   ],
   "source": [
    "from sklearn.preprocessing import LabelEncoder\n",
    "\n",
    "le = LabelEncoder()\n",
    "le.fit(div_color)\n",
    "\n",
    "Color = le.transform(div_color)\n",
    "Color_classes = le.classes_\n",
    "print(len(le.classes_))\n",
    "print(le.classes_)"
   ]
  },
  {
   "cell_type": "code",
   "execution_count": 19,
   "metadata": {},
   "outputs": [
    {
     "data": {
      "text/plain": [
       "Color\n",
       "Black                6422\n",
       "White                3344\n",
       "Brown Tabby          2592\n",
       "Brown                1951\n",
       "Tan                  1674\n",
       "Orange Tabby         1299\n",
       "Blue                 1199\n",
       "Tricolor              800\n",
       "Red                   779\n",
       "Brown Brindle         699\n",
       "Blue Tabby            678\n",
       "Tortie                580\n",
       "Calico                552\n",
       "Chocolate             448\n",
       "Torbie                398\n",
       "Sable                 324\n",
       "Cream Tabby           277\n",
       "Buff                  267\n",
       "Yellow                230\n",
       "Gray                  227\n",
       "Cream                 221\n",
       "Fawn                  209\n",
       "Lynx Point            183\n",
       "Blue Merle            165\n",
       "Seal Point            158\n",
       "Black Brindle          99\n",
       "Flame Point            85\n",
       "Gold                   77\n",
       "Brown Merle            72\n",
       "Black Smoke            62\n",
       "Black Tabby            61\n",
       "Silver                 53\n",
       "Red Merle              52\n",
       "Gray Tabby             51\n",
       "Blue Tick              44\n",
       "Orange                 43\n",
       "Silver Tabby           41\n",
       "Red Tick               40\n",
       "Lilac Point            39\n",
       "Tortie Point           34\n",
       "Blue Point             31\n",
       "Yellow Brindle         31\n",
       "Calico Point           27\n",
       "Apricot                26\n",
       "Chocolate Point        21\n",
       "Blue Cream             19\n",
       "Liver                  15\n",
       "Blue Tiger              8\n",
       "Blue Smoke              5\n",
       "Brown Tiger             4\n",
       "Liver Tick              4\n",
       "Black Tiger             2\n",
       "Silver Lynx Point       2\n",
       "Agouti                  2\n",
       "Orange Tiger            1\n",
       "Pink                    1\n",
       "Ruddy                   1\n",
       "dtype: int64"
      ]
     },
     "execution_count": 19,
     "metadata": {},
     "output_type": "execute_result"
    }
   ],
   "source": [
    "fin_col = pd.DataFrame(div_color, columns = ['Color'])\n",
    "\n",
    "\n",
    "haha = fin_col.groupby(\"Color\")\n",
    "\n",
    "\n",
    "\n",
    "haha.size().sort_values(ascending = False)\n",
    "  \n"
   ]
  },
  {
   "cell_type": "code",
   "execution_count": null,
   "metadata": {
    "collapsed": true,
    "scrolled": true
   },
   "outputs": [],
   "source": []
  },
  {
   "cell_type": "code",
   "execution_count": null,
   "metadata": {
    "collapsed": true
   },
   "outputs": [],
   "source": []
  }
 ],
 "metadata": {
  "kernelspec": {
   "display_name": "Python 3",
   "language": "python",
   "name": "python3"
  },
  "language_info": {
   "codemirror_mode": {
    "name": "ipython",
    "version": 3
   },
   "file_extension": ".py",
   "mimetype": "text/x-python",
   "name": "python",
   "nbconvert_exporter": "python",
   "pygments_lexer": "ipython3",
   "version": "3.6.1"
  }
 },
 "nbformat": 4,
 "nbformat_minor": 2
}
